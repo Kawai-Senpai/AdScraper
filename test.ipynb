{
 "cells": [
  {
   "cell_type": "code",
   "execution_count": 16,
   "metadata": {},
   "outputs": [
    {
     "name": "stderr",
     "output_type": "stream",
     "text": [
      "WARNING:fetcher:Although financial fields like 'spend' and 'impressions' are requested, they will only be returned by the API for political ads. Consider setting ad_type to 'POLITICAL_AND_ISSUE_ADS' if you need this data.\n",
      "INFO:fetcher:Fetching page 1\n",
      "INFO:fetcher:Stopping at max pages limit: 1\n"
     ]
    }
   ],
   "source": [
    "from fetcher import fetch_ads\n",
    "\n",
    "ads = fetch_ads(\n",
    "    ad_reached_countries=[\"US\"],\n",
    "    ad_active_status=\"ACTIVE\",\n",
    "    ad_delivery_date_min=\"2023-01-01\",\n",
    "    ad_delivery_date_max=\"2025-02-28\",\n",
    "    ad_type=\"ALL\",  # Non-political ads\n",
    "    languages=[\"en\"],\n",
    "    media_type=\"VIDEO\",\n",
    "    publisher_platforms=[\"FACEBOOK\", \"INSTAGRAM\"],\n",
    "    search_terms=\"AI Video Editor\",\n",
    "    search_type=\"KEYWORD_EXACT_PHRASE\",\n",
    "    unmask_removed_content=True,\n",
    "    limit_per_request=50,\n",
    "    max_pages=1,\n",
    "    verbose=False\n",
    ")"
   ]
  },
  {
   "cell_type": "code",
   "execution_count": 22,
   "metadata": {},
   "outputs": [
    {
     "data": {
      "text/plain": [
       "{'id': '1146619810520768',\n",
       " 'ad_creation_time': '2025-01-29',\n",
       " 'ad_creative_bodies': ['This AI edits your videos so you don’t have to.\\n\\nMeet Submagic – the ultimate tool for effortless video editing:\\n\\n🖊️ Add animated captions in one click.\\n🎞️ Insert captivating B-roll automatically.\\n✂️ Remove silences and filler words with AI.\\n\\nSave hours of editing and create videos that grab attention. 🚀'],\n",
       " 'ad_creative_link_captions': ['www.submagic.co'],\n",
       " 'ad_creative_link_titles': ['#1 AI Video Editor'],\n",
       " 'ad_delivery_start_time': '2025-01-29',\n",
       " 'ad_snapshot_url': 'https://www.facebook.com/ads/archive/render_ad/?id=1146619810520768&access_token=EAATvjsIvH9kBO4dcdHrNWwkjQVQdjT33yZCG9qNNZAgBcUsxzd7u49Tk0Hpied7YHBi00lSWZCUogLMB9dmZAbwO7ahsS9tfb4CXuSo8rBQ7R8XOZA798pga2Ob1Edx6B5wz5Ol6gOEYxPgQieEZCaO1mggeZBZA8gjpgRiZBcZB5bb7hR2IaZANLx0YWPJibIo92V1wamLXNHU',\n",
       " 'languages': ['en'],\n",
       " 'page_id': '103601292818588',\n",
       " 'page_name': 'Submagic',\n",
       " 'publisher_platforms': ['facebook',\n",
       "  'instagram',\n",
       "  'audience_network',\n",
       "  'messenger'],\n",
       " 'target_ages': ['25', '65'],\n",
       " 'target_gender': 'All',\n",
       " 'target_locations': [{'name': 'Ireland',\n",
       "   'num_obfuscated': 0,\n",
       "   'type': 'countries',\n",
       "   'excluded': False},\n",
       "  {'name': 'Netherlands',\n",
       "   'num_obfuscated': 0,\n",
       "   'type': 'countries',\n",
       "   'excluded': False},\n",
       "  {'name': 'Sweden',\n",
       "   'num_obfuscated': 0,\n",
       "   'type': 'countries',\n",
       "   'excluded': False},\n",
       "  {'name': 'Finland',\n",
       "   'num_obfuscated': 0,\n",
       "   'type': 'countries',\n",
       "   'excluded': False},\n",
       "  {'name': 'Denmark',\n",
       "   'num_obfuscated': 0,\n",
       "   'type': 'countries',\n",
       "   'excluded': False},\n",
       "  {'name': 'Poland',\n",
       "   'num_obfuscated': 0,\n",
       "   'type': 'countries',\n",
       "   'excluded': False},\n",
       "  {'name': 'France',\n",
       "   'num_obfuscated': 0,\n",
       "   'type': 'countries',\n",
       "   'excluded': False}],\n",
       " 'eu_total_reach': 9487,\n",
       " 'age_country_gender_reach_breakdown': [{'country': 'DK',\n",
       "   'age_gender_breakdowns': [{'age_range': '55-64',\n",
       "     'male': 15,\n",
       "     'female': 4,\n",
       "     'unknown': 1},\n",
       "    {'age_range': '65+', 'female': 5},\n",
       "    {'age_range': '25-34', 'male': 57, 'female': 43, 'unknown': 1},\n",
       "    {'age_range': '45-54', 'male': 23, 'female': 18, 'unknown': 1},\n",
       "    {'age_range': '35-44', 'male': 40, 'female': 20}]},\n",
       "  {'country': 'FI',\n",
       "   'age_gender_breakdowns': [{'age_range': '55-64', 'male': 16, 'female': 3},\n",
       "    {'age_range': '65+', 'male': 2, 'female': 2},\n",
       "    {'age_range': '45-54', 'male': 17, 'female': 14},\n",
       "    {'age_range': '25-34', 'male': 33, 'female': 26, 'unknown': 1},\n",
       "    {'age_range': '35-44', 'male': 40, 'female': 23, 'unknown': 2}]},\n",
       "  {'country': 'FR',\n",
       "   'age_gender_breakdowns': [{'age_range': '55-64',\n",
       "     'male': 206,\n",
       "     'female': 88,\n",
       "     'unknown': 6},\n",
       "    {'age_range': '45-54', 'male': 570, 'female': 260, 'unknown': 12},\n",
       "    {'age_range': '65+', 'male': 73, 'female': 28, 'unknown': 2},\n",
       "    {'age_range': '25-34', 'male': 905, 'female': 420, 'unknown': 23},\n",
       "    {'age_range': '35-44', 'male': 842, 'female': 524, 'unknown': 38}]},\n",
       "  {'country': 'IE',\n",
       "   'age_gender_breakdowns': [{'age_range': '55-64',\n",
       "     'male': 10,\n",
       "     'female': 3,\n",
       "     'unknown': 1},\n",
       "    {'age_range': '45-54', 'male': 29, 'female': 27, 'unknown': 4},\n",
       "    {'age_range': '65+', 'male': 7},\n",
       "    {'age_range': '25-34', 'male': 45, 'female': 20, 'unknown': 2},\n",
       "    {'age_range': '35-44', 'male': 58, 'female': 35}]},\n",
       "  {'country': 'NL',\n",
       "   'age_gender_breakdowns': [{'age_range': '45-54',\n",
       "     'male': 76,\n",
       "     'female': 48,\n",
       "     'unknown': 1},\n",
       "    {'age_range': '65+', 'male': 10, 'female': 1, 'unknown': 1},\n",
       "    {'age_range': '55-64', 'male': 29, 'female': 10, 'unknown': 2},\n",
       "    {'age_range': '25-34', 'male': 156, 'female': 72, 'unknown': 2},\n",
       "    {'age_range': '35-44', 'male': 123, 'female': 71, 'unknown': 4}]},\n",
       "  {'country': 'PL',\n",
       "   'age_gender_breakdowns': [{'age_range': '45-54',\n",
       "     'male': 543,\n",
       "     'female': 179,\n",
       "     'unknown': 13},\n",
       "    {'age_range': '65+', 'male': 49, 'female': 8, 'unknown': 4},\n",
       "    {'age_range': '55-64', 'male': 104, 'female': 37, 'unknown': 3},\n",
       "    {'age_range': '25-34', 'male': 775, 'female': 405, 'unknown': 6},\n",
       "    {'age_range': '35-44', 'male': 1112, 'female': 524, 'unknown': 18}]},\n",
       "  {'country': 'SE',\n",
       "   'age_gender_breakdowns': [{'age_range': '45-54',\n",
       "     'male': 45,\n",
       "     'female': 31,\n",
       "     'unknown': 2},\n",
       "    {'age_range': '65+', 'male': 5, 'female': 2},\n",
       "    {'age_range': '55-64', 'male': 8, 'female': 11},\n",
       "    {'age_range': '25-34', 'male': 54, 'female': 27, 'unknown': 1},\n",
       "    {'age_range': '35-44', 'male': 51, 'female': 36, 'unknown': 3}]}],\n",
       " 'beneficiary_payers': [{'payer': 'Submagic',\n",
       "   'beneficiary': 'Submagic',\n",
       "   'current': True}]}"
      ]
     },
     "execution_count": 22,
     "metadata": {},
     "output_type": "execute_result"
    }
   ],
   "source": [
    "ads[5]"
   ]
  },
  {
   "cell_type": "code",
   "execution_count": 10,
   "metadata": {},
   "outputs": [
    {
     "data": {
      "text/plain": [
       "'https://www.facebook.com/ads/archive/render_ad/?id=1078038547321805&access_token=EAATvjsIvH9kBO4dcdHrNWwkjQVQdjT33yZCG9qNNZAgBcUsxzd7u49Tk0Hpied7YHBi00lSWZCUogLMB9dmZAbwO7ahsS9tfb4CXuSo8rBQ7R8XOZA798pga2Ob1Edx6B5wz5Ol6gOEYxPgQieEZCaO1mggeZBZA8gjpgRiZBcZB5bb7hR2IaZANLx0YWPJibIo92V1wamLXNHU'"
      ]
     },
     "execution_count": 10,
     "metadata": {},
     "output_type": "execute_result"
    }
   ],
   "source": [
    "ad = ads[0]\n",
    "ad.keys()\n",
    "url = ad[\"ad_snapshot_url\"]\n",
    "url"
   ]
  },
  {
   "cell_type": "code",
   "execution_count": 11,
   "metadata": {},
   "outputs": [],
   "source": [
    "from selenium import webdriver\n",
    "from selenium.webdriver.chrome.options import Options\n",
    "from selenium.webdriver.common.by import By\n",
    "from selenium.webdriver.support.ui import WebDriverWait\n",
    "from selenium.webdriver.support import expected_conditions as EC\n",
    "import time\n",
    "\n",
    "# Set up Chrome options\n",
    "chrome_options = Options()\n",
    "chrome_options.add_argument(\"--headless\")  # Run in headless mode\n",
    "chrome_options.add_argument(\"--no-sandbox\")\n",
    "chrome_options.add_argument(\"--disable-dev-shm-usage\")\n",
    "# Initialize the Chrome driver\n",
    "driver = webdriver.Chrome(options=chrome_options)\n",
    "\n",
    "# Load the URL\n",
    "driver.get(url)"
   ]
  },
  {
   "cell_type": "code",
   "execution_count": 12,
   "metadata": {},
   "outputs": [
    {
     "name": "stdout",
     "output_type": "stream",
     "text": [
      "https://video.fccu1-2.fna.fbcdn.net/v/t42.1790-2/479015822_1276010230163112_4327057678780036034_n.mp4?_nc_cat=101&ccb=1-7&_nc_sid=c53f8f&_nc_ohc=EfFvJwmcb9QQ7kNvgGLkgjc&_nc_oc=AdhUj6F__58Sl4D6_okCQjTjFOVKJgXJEECwbooufHPZ1iRsS1KYOupLrzM_iVWkKIM&_nc_zt=28&_nc_ht=video.fccu1-2.fna&_nc_gid=AqAt7sZhlLk_rxivAFGiy-f&oh=00_AYBWROY2NVcjLNelOj5ijKeusLx4YTVmEKOQAp0SLDoqKw&oe=67CF01DA\n"
     ]
    }
   ],
   "source": [
    "video_elements = driver.find_elements(By.TAG_NAME, \"video\")\n",
    "src = video_elements[0].get_attribute(\"src\")\n",
    "print(src)"
   ]
  },
  {
   "cell_type": "code",
   "execution_count": 14,
   "metadata": {},
   "outputs": [],
   "source": [
    "# Download the video from the link\n",
    "import requests\n",
    "response = requests.get(src, stream=True)\n",
    "with open(\"video.mp4\", \"wb\") as file:\n",
    "    for chunk in response.iter_content(chunk_size=1024):\n",
    "        if chunk:\n",
    "            file.write(chunk)"
   ]
  }
 ],
 "metadata": {
  "kernelspec": {
   "display_name": "Python 3",
   "language": "python",
   "name": "python3"
  },
  "language_info": {
   "codemirror_mode": {
    "name": "ipython",
    "version": 3
   },
   "file_extension": ".py",
   "mimetype": "text/x-python",
   "name": "python",
   "nbconvert_exporter": "python",
   "pygments_lexer": "ipython3",
   "version": "3.11.0"
  }
 },
 "nbformat": 4,
 "nbformat_minor": 2
}
