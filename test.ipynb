{
 "cells": [
  {
   "cell_type": "code",
   "execution_count": 6,
   "metadata": {},
   "outputs": [
    {
     "name": "stderr",
     "output_type": "stream",
     "text": [
      "WARNING:fetcher:Although financial fields like 'spend' and 'impressions' are requested, they will only be returned by the API for political ads. Consider setting ad_type to 'POLITICAL_AND_ISSUE_ADS' if you need this data.\n",
      "INFO:fetcher:Fetching page 1\n",
      "INFO:fetcher:Stopping at max pages limit: 1\n"
     ]
    }
   ],
   "source": [
    "from fetcher import fetch_ads\n",
    "\n",
    "ads = fetch_ads(\n",
    "    ad_reached_countries=[\"US\"],\n",
    "    ad_active_status=\"ACTIVE\",\n",
    "    ad_delivery_date_min=\"2023-01-01\",\n",
    "    ad_delivery_date_max=\"2025-02-28\",\n",
    "    ad_type=\"ALL\",  # Non-political ads\n",
    "    languages=[\"en\"],\n",
    "    media_type=\"VIDEO\",\n",
    "    publisher_platforms=[\"FACEBOOK\", \"INSTAGRAM\"],\n",
    "    search_terms=\"Cat\",\n",
    "    search_type=\"KEYWORD_EXACT_PHRASE\",\n",
    "    unmask_removed_content=True,\n",
    "    limit_per_request=50,\n",
    "    max_pages=1,\n",
    "    verbose=False\n",
    ")"
   ]
  },
  {
   "cell_type": "code",
   "execution_count": 7,
   "metadata": {},
   "outputs": [
    {
     "data": {
      "text/plain": [
       "{'id': '1278485836556554',\n",
       " 'ad_creation_time': '2025-02-28',\n",
       " 'ad_creative_bodies': ['Cycling Coaching for less than $20/month'],\n",
       " 'ad_creative_link_captions': ['FasCatCoaching.com'],\n",
       " 'ad_creative_link_titles': ['Build a Custom Plan for Free for 1 Month'],\n",
       " 'ad_delivery_start_time': '2025-02-28',\n",
       " 'ad_snapshot_url': 'https://www.facebook.com/ads/archive/render_ad/?id=1278485836556554&access_token=EAATvjsIvH9kBO9sy3Wv7x3MQwuAtiVZBMQiXRzUJEeeHDNg2zvdsajWZBNViBY1qMwKEncFJi15LZAAei49UdPznYbthqMN4pxhOPztZCnLcBzvnZA3AtrAU7ZCYCwgqZBYK9uW1t9RRDkA2JboQWPHn6xUEJ3oMxD5gSs7BWc73NpsbqU0ZA5HLuN9m6ZC2qOexwlcrEbEV9mM9XTZAr4fQZDZD',\n",
       " 'languages': ['en'],\n",
       " 'page_id': '31628608122',\n",
       " 'page_name': 'FasCat Coaching',\n",
       " 'publisher_platforms': ['facebook',\n",
       "  'instagram',\n",
       "  'audience_network',\n",
       "  'messenger'],\n",
       " 'target_ages': ['25', '65'],\n",
       " 'target_gender': 'All',\n",
       " 'eu_total_reach': 26801,\n",
       " 'age_country_gender_reach_breakdown': [{'country': 'BE',\n",
       "   'age_gender_breakdowns': [{'age_range': '55-64',\n",
       "     'male': 161,\n",
       "     'female': 2,\n",
       "     'unknown': 1},\n",
       "    {'age_range': '65+', 'male': 61, 'female': 2, 'unknown': 2},\n",
       "    {'age_range': '35-44', 'male': 480, 'female': 14, 'unknown': 4},\n",
       "    {'age_range': '25-34', 'male': 589, 'female': 11, 'unknown': 2},\n",
       "    {'age_range': '45-54', 'male': 369, 'female': 9, 'unknown': 2}]},\n",
       "  {'country': 'BG',\n",
       "   'age_gender_breakdowns': [{'age_range': '55-64', 'male': 47},\n",
       "    {'age_range': '65+', 'male': 16, 'unknown': 2},\n",
       "    {'age_range': '35-44', 'male': 285, 'female': 7, 'unknown': 2},\n",
       "    {'age_range': '25-34', 'male': 163, 'female': 6, 'unknown': 3},\n",
       "    {'age_range': '45-54', 'male': 199, 'female': 3, 'unknown': 4}]},\n",
       "  {'country': 'CY',\n",
       "   'age_gender_breakdowns': [{'age_range': '55-64',\n",
       "     'male': 123,\n",
       "     'female': 2,\n",
       "     'unknown': 5},\n",
       "    {'age_range': '65+', 'male': 32, 'unknown': 3},\n",
       "    {'age_range': '35-44', 'male': 352, 'female': 15, 'unknown': 6},\n",
       "    {'age_range': '25-34', 'male': 176, 'female': 8},\n",
       "    {'age_range': '45-54', 'male': 291, 'female': 12, 'unknown': 9}]},\n",
       "  {'country': 'CZ',\n",
       "   'age_gender_breakdowns': [{'age_range': '55-64', 'male': 29, 'unknown': 1},\n",
       "    {'age_range': '65+', 'male': 21, 'female': 1, 'unknown': 1},\n",
       "    {'age_range': '35-44', 'male': 184, 'female': 5, 'unknown': 4},\n",
       "    {'age_range': '25-34', 'male': 179, 'female': 7, 'unknown': 1},\n",
       "    {'age_range': '45-54', 'male': 162, 'female': 2, 'unknown': 5}]},\n",
       "  {'country': 'DE',\n",
       "   'age_gender_breakdowns': [{'age_range': '55-64', 'male': 55, 'female': 2},\n",
       "    {'age_range': '65+', 'male': 8},\n",
       "    {'age_range': '25-34', 'male': 207, 'female': 4},\n",
       "    {'age_range': '45-54', 'male': 133, 'female': 5},\n",
       "    {'age_range': '35-44', 'male': 223, 'female': 5, 'unknown': 1}]},\n",
       "  {'country': 'YT',\n",
       "   'age_gender_breakdowns': [{'age_range': '45-54', 'male': 7, 'unknown': 1},\n",
       "    {'age_range': '65+', 'male': 1},\n",
       "    {'age_range': '25-34', 'male': 2},\n",
       "    {'age_range': '35-44', 'male': 6}]},\n",
       "  {'country': 'AT',\n",
       "   'age_gender_breakdowns': [{'age_range': '55-64', 'male': 19, 'female': 1},\n",
       "    {'age_range': '65+', 'male': 4},\n",
       "    {'age_range': '35-44', 'male': 85, 'female': 3, 'unknown': 2},\n",
       "    {'age_range': '25-34', 'male': 114, 'female': 4, 'unknown': 1},\n",
       "    {'age_range': '45-54', 'male': 67, 'female': 2}]},\n",
       "  {'country': 'DK',\n",
       "   'age_gender_breakdowns': [{'age_range': '55-64', 'male': 70},\n",
       "    {'age_range': '65+', 'male': 13},\n",
       "    {'age_range': '25-34', 'male': 137, 'female': 1, 'unknown': 1},\n",
       "    {'age_range': '45-54', 'male': 161, 'female': 2, 'unknown': 1},\n",
       "    {'age_range': '35-44', 'male': 129, 'unknown': 1}]},\n",
       "  {'country': 'IT',\n",
       "   'age_gender_breakdowns': [{'age_range': '55-64',\n",
       "     'male': 230,\n",
       "     'female': 6,\n",
       "     'unknown': 2},\n",
       "    {'age_range': '45-54', 'male': 559, 'female': 12, 'unknown': 4},\n",
       "    {'age_range': '65+', 'male': 50, 'unknown': 1},\n",
       "    {'age_range': '25-34', 'male': 502, 'female': 11, 'unknown': 3},\n",
       "    {'age_range': '35-44', 'male': 550, 'female': 18, 'unknown': 3}]},\n",
       "  {'country': 'IE',\n",
       "   'age_gender_breakdowns': [{'age_range': '55-64',\n",
       "     'male': 148,\n",
       "     'female': 3,\n",
       "     'unknown': 1},\n",
       "    {'age_range': '45-54', 'male': 363, 'female': 9, 'unknown': 6},\n",
       "    {'age_range': '65+', 'male': 37, 'unknown': 1},\n",
       "    {'age_range': '25-34', 'male': 94, 'female': 5},\n",
       "    {'age_range': '35-44', 'male': 155, 'female': 15, 'unknown': 1}]},\n",
       "  {'country': 'LT',\n",
       "   'age_gender_breakdowns': [{'age_range': '55-64', 'male': 25},\n",
       "    {'age_range': '45-54', 'male': 115, 'female': 5},\n",
       "    {'age_range': '65+', 'male': 14, 'unknown': 1},\n",
       "    {'age_range': '25-34', 'male': 296, 'female': 4},\n",
       "    {'age_range': '35-44', 'male': 301, 'unknown': 5}]},\n",
       "  {'country': 'LU',\n",
       "   'age_gender_breakdowns': [{'age_range': '55-64', 'male': 9, 'female': 1},\n",
       "    {'age_range': '45-54', 'male': 36, 'female': 2, 'unknown': 2},\n",
       "    {'age_range': '65+', 'male': 3},\n",
       "    {'age_range': '25-34', 'male': 29, 'female': 2},\n",
       "    {'age_range': '35-44', 'male': 30, 'unknown': 2}]},\n",
       "  {'country': 'LV',\n",
       "   'age_gender_breakdowns': [{'age_range': '55-64', 'male': 13},\n",
       "    {'age_range': '45-54', 'male': 83, 'female': 3, 'unknown': 3},\n",
       "    {'age_range': '65+', 'male': 8},\n",
       "    {'age_range': '25-34', 'male': 113, 'female': 6},\n",
       "    {'age_range': '35-44', 'male': 156, 'female': 1, 'unknown': 1}]},\n",
       "  {'country': 'FR',\n",
       "   'age_gender_breakdowns': [{'age_range': '55-64',\n",
       "     'male': 115,\n",
       "     'female': 7,\n",
       "     'unknown': 2},\n",
       "    {'age_range': '65+', 'male': 34, 'female': 1, 'unknown': 1},\n",
       "    {'age_range': '25-34', 'male': 262, 'female': 5, 'unknown': 1},\n",
       "    {'age_range': '45-54', 'male': 200, 'female': 6, 'unknown': 3},\n",
       "    {'age_range': '35-44', 'male': 199, 'female': 6, 'unknown': 4}]},\n",
       "  {'country': 'FI',\n",
       "   'age_gender_breakdowns': [{'age_range': '55-64', 'male': 17},\n",
       "    {'age_range': '65+', 'male': 3},\n",
       "    {'age_range': '25-34', 'male': 25, 'female': 2},\n",
       "    {'age_range': '45-54', 'male': 35, 'female': 1, 'unknown': 1},\n",
       "    {'age_range': '35-44', 'male': 46, 'female': 2, 'unknown': 1}]},\n",
       "  {'country': 'EE',\n",
       "   'age_gender_breakdowns': [{'age_range': '55-64', 'male': 44},\n",
       "    {'age_range': '65+', 'male': 7},\n",
       "    {'age_range': '25-34', 'male': 72, 'female': 10},\n",
       "    {'age_range': '45-54', 'male': 125, 'female': 2, 'unknown': 4},\n",
       "    {'age_range': '35-44', 'male': 141, 'female': 6}]},\n",
       "  {'country': 'ES',\n",
       "   'age_gender_breakdowns': [{'age_range': '55-64',\n",
       "     'male': 226,\n",
       "     'female': 8,\n",
       "     'unknown': 5},\n",
       "    {'age_range': '65+', 'male': 87, 'female': 1, 'unknown': 2},\n",
       "    {'age_range': '25-34', 'male': 314, 'female': 14, 'unknown': 3},\n",
       "    {'age_range': '45-54', 'male': 521, 'female': 15, 'unknown': 2},\n",
       "    {'age_range': '35-44', 'male': 502, 'female': 17, 'unknown': 4}]},\n",
       "  {'country': 'HR',\n",
       "   'age_gender_breakdowns': [{'age_range': '55-64',\n",
       "     'male': 63,\n",
       "     'female': 1,\n",
       "     'unknown': 1},\n",
       "    {'age_range': '45-54', 'male': 235, 'female': 6, 'unknown': 7},\n",
       "    {'age_range': '65+', 'male': 20, 'unknown': 1},\n",
       "    {'age_range': '25-34', 'male': 135, 'female': 3, 'unknown': 4},\n",
       "    {'age_range': '35-44', 'male': 308, 'female': 16, 'unknown': 8}]},\n",
       "  {'country': 'HU',\n",
       "   'age_gender_breakdowns': [{'age_range': '55-64',\n",
       "     'male': 99,\n",
       "     'female': 1,\n",
       "     'unknown': 2},\n",
       "    {'age_range': '45-54', 'male': 391, 'female': 9, 'unknown': 7},\n",
       "    {'age_range': '65+', 'male': 29, 'female': 1},\n",
       "    {'age_range': '25-34', 'male': 312, 'female': 12, 'unknown': 2},\n",
       "    {'age_range': '35-44', 'male': 306, 'female': 9, 'unknown': 2}]},\n",
       "  {'country': 'GF',\n",
       "   'age_gender_breakdowns': [{'age_range': '55-64', 'male': 4},\n",
       "    {'age_range': '25-34', 'male': 11},\n",
       "    {'age_range': '45-54', 'male': 13, 'female': 1},\n",
       "    {'age_range': '35-44', 'male': 12, 'female': 1}]},\n",
       "  {'country': 'GP',\n",
       "   'age_gender_breakdowns': [{'age_range': '55-64', 'male': 9, 'unknown': 1},\n",
       "    {'age_range': '65+', 'male': 1, 'unknown': 1},\n",
       "    {'age_range': '25-34', 'male': 13, 'unknown': 1},\n",
       "    {'age_range': '45-54', 'male': 17, 'female': 1},\n",
       "    {'age_range': '35-44', 'male': 17}]},\n",
       "  {'country': 'GR',\n",
       "   'age_gender_breakdowns': [{'age_range': '55-64',\n",
       "     'male': 433,\n",
       "     'female': 5,\n",
       "     'unknown': 13},\n",
       "    {'age_range': '45-54', 'male': 1048, 'female': 37, 'unknown': 28},\n",
       "    {'age_range': '65+', 'male': 109, 'female': 1, 'unknown': 3},\n",
       "    {'age_range': '25-34', 'male': 227, 'female': 12, 'unknown': 7},\n",
       "    {'age_range': '35-44', 'male': 635, 'female': 24, 'unknown': 14}]},\n",
       "  {'country': 'MF',\n",
       "   'age_gender_breakdowns': [{'age_range': '55-64', 'male': 12, 'female': 1},\n",
       "    {'age_range': '45-54', 'male': 21, 'female': 4, 'unknown': 1},\n",
       "    {'age_range': '65+', 'male': 4},\n",
       "    {'age_range': '25-34', 'male': 6, 'female': 1},\n",
       "    {'age_range': '35-44', 'male': 12, 'female': 1}]},\n",
       "  {'country': 'MT',\n",
       "   'age_gender_breakdowns': [{'age_range': '45-54',\n",
       "     'male': 116,\n",
       "     'female': 3,\n",
       "     'unknown': 3},\n",
       "    {'age_range': '65+', 'male': 6},\n",
       "    {'age_range': '55-64', 'male': 43, 'unknown': 1},\n",
       "    {'age_range': '25-34', 'male': 41, 'female': 6},\n",
       "    {'age_range': '35-44', 'male': 113, 'female': 5}]},\n",
       "  {'country': 'MQ',\n",
       "   'age_gender_breakdowns': [{'age_range': '45-54', 'male': 11},\n",
       "    {'age_range': '65+', 'male': 4},\n",
       "    {'age_range': '55-64', 'male': 5, 'female': 2, 'unknown': 2},\n",
       "    {'age_range': '25-34', 'male': 4},\n",
       "    {'age_range': '35-44', 'male': 15}]},\n",
       "  {'country': 'SI',\n",
       "   'age_gender_breakdowns': [{'age_range': '45-54',\n",
       "     'male': 474,\n",
       "     'female': 13,\n",
       "     'unknown': 5},\n",
       "    {'age_range': '65+', 'male': 46, 'female': 2, 'unknown': 2},\n",
       "    {'age_range': '55-64', 'male': 131, 'female': 1, 'unknown': 1},\n",
       "    {'age_range': '25-34', 'male': 350, 'female': 5, 'unknown': 6},\n",
       "    {'age_range': '35-44', 'male': 508, 'female': 21, 'unknown': 15}]},\n",
       "  {'country': 'SK',\n",
       "   'age_gender_breakdowns': [{'age_range': '45-54',\n",
       "     'male': 146,\n",
       "     'female': 6,\n",
       "     'unknown': 3},\n",
       "    {'age_range': '65+', 'male': 10},\n",
       "    {'age_range': '55-64', 'male': 29},\n",
       "    {'age_range': '25-34', 'male': 184, 'female': 5},\n",
       "    {'age_range': '35-44', 'male': 215, 'female': 3, 'unknown': 4}]},\n",
       "  {'country': 'SE',\n",
       "   'age_gender_breakdowns': [{'age_range': '45-54',\n",
       "     'male': 154,\n",
       "     'female': 3,\n",
       "     'unknown': 1},\n",
       "    {'age_range': '65+', 'male': 22, 'female': 1, 'unknown': 1},\n",
       "    {'age_range': '55-64', 'male': 80, 'female': 2, 'unknown': 1},\n",
       "    {'age_range': '25-34', 'male': 82},\n",
       "    {'age_range': '35-44', 'male': 125, 'female': 3, 'unknown': 1}]},\n",
       "  {'country': 'NL',\n",
       "   'age_gender_breakdowns': [{'age_range': '45-54',\n",
       "     'male': 163,\n",
       "     'female': 7,\n",
       "     'unknown': 2},\n",
       "    {'age_range': '65+', 'male': 18},\n",
       "    {'age_range': '55-64', 'male': 93, 'female': 1, 'unknown': 1},\n",
       "    {'age_range': '25-34', 'male': 146, 'female': 10},\n",
       "    {'age_range': '35-44', 'male': 163, 'female': 5, 'unknown': 2}]},\n",
       "  {'country': 'PT',\n",
       "   'age_gender_breakdowns': [{'age_range': '45-54',\n",
       "     'male': 766,\n",
       "     'female': 15,\n",
       "     'unknown': 5},\n",
       "    {'age_range': '65+', 'male': 48, 'unknown': 1},\n",
       "    {'age_range': '55-64', 'male': 186, 'female': 5, 'unknown': 1},\n",
       "    {'age_range': '25-34', 'male': 511, 'female': 12, 'unknown': 1},\n",
       "    {'age_range': '35-44', 'male': 811, 'female': 8, 'unknown': 10}]},\n",
       "  {'country': 'RE',\n",
       "   'age_gender_breakdowns': [{'age_range': '45-54',\n",
       "     'male': 89,\n",
       "     'female': 2,\n",
       "     'unknown': 1},\n",
       "    {'age_range': '65+', 'male': 6},\n",
       "    {'age_range': '55-64', 'male': 17},\n",
       "    {'age_range': '25-34', 'male': 73, 'female': 3},\n",
       "    {'age_range': '35-44', 'male': 84, 'female': 3, 'unknown': 1}]},\n",
       "  {'country': 'RO',\n",
       "   'age_gender_breakdowns': [{'age_range': '45-54',\n",
       "     'male': 415,\n",
       "     'female': 17,\n",
       "     'unknown': 6},\n",
       "    {'age_range': '65+', 'male': 25, 'female': 1},\n",
       "    {'age_range': '55-64', 'male': 86, 'female': 2},\n",
       "    {'age_range': '25-34', 'male': 333, 'female': 8, 'unknown': 2},\n",
       "    {'age_range': '35-44', 'male': 620, 'female': 23, 'unknown': 4}]},\n",
       "  {'country': 'PL',\n",
       "   'age_gender_breakdowns': [{'age_range': '45-54',\n",
       "     'male': 419,\n",
       "     'female': 4,\n",
       "     'unknown': 7},\n",
       "    {'age_range': '65+', 'male': 44, 'female': 1, 'unknown': 2},\n",
       "    {'age_range': '55-64', 'male': 73},\n",
       "    {'age_range': '25-34', 'male': 425, 'female': 9, 'unknown': 2},\n",
       "    {'age_range': '35-44', 'male': 730, 'female': 8, 'unknown': 4}]}],\n",
       " 'beneficiary_payers': [{'payer': 'FasCat Coaching',\n",
       "   'beneficiary': 'FasCat Coaching',\n",
       "   'current': True}]}"
      ]
     },
     "execution_count": 7,
     "metadata": {},
     "output_type": "execute_result"
    }
   ],
   "source": [
    "ads[0]"
   ]
  },
  {
   "cell_type": "code",
   "execution_count": 8,
   "metadata": {},
   "outputs": [
    {
     "data": {
      "text/plain": [
       "'https://www.facebook.com/ads/archive/render_ad/?id=1278485836556554&access_token=EAATvjsIvH9kBO9sy3Wv7x3MQwuAtiVZBMQiXRzUJEeeHDNg2zvdsajWZBNViBY1qMwKEncFJi15LZAAei49UdPznYbthqMN4pxhOPztZCnLcBzvnZA3AtrAU7ZCYCwgqZBYK9uW1t9RRDkA2JboQWPHn6xUEJ3oMxD5gSs7BWc73NpsbqU0ZA5HLuN9m6ZC2qOexwlcrEbEV9mM9XTZAr4fQZDZD'"
      ]
     },
     "execution_count": 8,
     "metadata": {},
     "output_type": "execute_result"
    }
   ],
   "source": [
    "ad = ads[0]\n",
    "ad.keys()\n",
    "url = ad[\"ad_snapshot_url\"]\n",
    "url"
   ]
  },
  {
   "cell_type": "code",
   "execution_count": 10,
   "metadata": {},
   "outputs": [],
   "source": [
    "from selenium import webdriver\n",
    "from selenium.webdriver.chrome.options import Options\n",
    "from selenium.webdriver.common.by import By\n",
    "from selenium.webdriver.support.ui import WebDriverWait\n",
    "from selenium.webdriver.support import expected_conditions as EC\n",
    "import time\n",
    "\n",
    "# Set up Chrome options\n",
    "chrome_options = Options()\n",
    "#chrome_options.add_argument(\"--headless\")  # Run in headless mode\n",
    "chrome_options.add_argument(\"--no-sandbox\")\n",
    "chrome_options.add_argument(\"--disable-dev-shm-usage\")\n",
    "# Initialize the Chrome driver\n",
    "driver = webdriver.Chrome(options=chrome_options)\n",
    "\n",
    "# Load the URL\n",
    "driver.get(url)"
   ]
  },
  {
   "cell_type": "code",
   "execution_count": 12,
   "metadata": {},
   "outputs": [
    {
     "name": "stdout",
     "output_type": "stream",
     "text": [
      "https://video.fccu1-2.fna.fbcdn.net/v/t42.1790-2/479015822_1276010230163112_4327057678780036034_n.mp4?_nc_cat=101&ccb=1-7&_nc_sid=c53f8f&_nc_ohc=EfFvJwmcb9QQ7kNvgGLkgjc&_nc_oc=AdhUj6F__58Sl4D6_okCQjTjFOVKJgXJEECwbooufHPZ1iRsS1KYOupLrzM_iVWkKIM&_nc_zt=28&_nc_ht=video.fccu1-2.fna&_nc_gid=AqAt7sZhlLk_rxivAFGiy-f&oh=00_AYBWROY2NVcjLNelOj5ijKeusLx4YTVmEKOQAp0SLDoqKw&oe=67CF01DA\n"
     ]
    }
   ],
   "source": [
    "video_elements = driver.find_elements(By.TAG_NAME, \"video\")\n",
    "src = video_elements[0].get_attribute(\"src\")\n",
    "print(src)"
   ]
  },
  {
   "cell_type": "code",
   "execution_count": 14,
   "metadata": {},
   "outputs": [],
   "source": [
    "# Download the video from the link\n",
    "import requests\n",
    "response = requests.get(src, stream=True)\n",
    "with open(\"video.mp4\", \"wb\") as file:\n",
    "    for chunk in response.iter_content(chunk_size=1024):\n",
    "        if chunk:\n",
    "            file.write(chunk)"
   ]
  },
  {
   "cell_type": "code",
   "execution_count": 14,
   "metadata": {},
   "outputs": [
    {
     "name": "stdout",
     "output_type": "stream",
     "text": [
      "FasCat Coaching\n",
      "https://facebook.com/fascatcoaching\n"
     ]
    }
   ],
   "source": [
    "page_name_element = driver.find_element(By.XPATH, \"//a[contains(@href, 'https://facebook.com/')]\")\n",
    "page_link = page_name_element.get_attribute(\"href\")\n",
    "page_name = page_name_element.text\n",
    "print(page_name)\n",
    "print(page_link)"
   ]
  },
  {
   "cell_type": "code",
   "execution_count": 15,
   "metadata": {},
   "outputs": [],
   "source": [
    "#open page\n",
    "driver.get(page_link)"
   ]
  },
  {
   "cell_type": "code",
   "execution_count": 16,
   "metadata": {},
   "outputs": [],
   "source": [
    "#get close button with aria-label=\"Close\"\n",
    "close_button = WebDriverWait(driver, 10).until(\n",
    "    EC.presence_of_element_located((By.XPATH, \"//div[@aria-label='Close']\"))\n",
    ")\n",
    "close_button.click()"
   ]
  },
  {
   "cell_type": "code",
   "execution_count": 17,
   "metadata": {},
   "outputs": [
    {
     "name": "stdout",
     "output_type": "stream",
     "text": [
      "5.5K likes\n"
     ]
    }
   ],
   "source": [
    "#likes (https://www.facebook.com/fascatcoaching/friends_likes/)\n",
    "likes_button = WebDriverWait(driver, 10).until(\n",
    "    EC.presence_of_element_located((By.XPATH, \"//a[contains(@href, '/friends_likes/')]\"))\n",
    ")\n",
    "likes_text = likes_button.text\n",
    "print(likes_text)"
   ]
  },
  {
   "cell_type": "code",
   "execution_count": 18,
   "metadata": {},
   "outputs": [
    {
     "name": "stdout",
     "output_type": "stream",
     "text": [
      "5.9K followers\n"
     ]
    }
   ],
   "source": [
    "#followers (https://www.facebook.com/fascatcoaching/followers/)\n",
    "followers_button = WebDriverWait(driver, 10).until(\n",
    "    EC.presence_of_element_located((By.XPATH, \"//a[contains(@href, '/followers/')]\"))\n",
    ")\n",
    "followers_text = followers_button.text\n",
    "print(followers_text)"
   ]
  },
  {
   "cell_type": "code",
   "execution_count": 19,
   "metadata": {},
   "outputs": [
    {
     "name": "stdout",
     "output_type": "stream",
     "text": [
      "92% recommend (32 reviews)\n"
     ]
    }
   ],
   "source": [
    "#Review (https://www.facebook.com/fascatcoaching/reviews)\n",
    "reviews_button = WebDriverWait(driver, 10).until(\n",
    "    EC.presence_of_element_located((By.XPATH, \"//a[contains(@href, '/reviews')]\"))\n",
    ")\n",
    "reviews_text = reviews_button.text\n",
    "print(reviews_text)"
   ]
  },
  {
   "cell_type": "code",
   "execution_count": 20,
   "metadata": {},
   "outputs": [
    {
     "name": "stdout",
     "output_type": "stream",
     "text": [
      "FasCat Coaching is a cycling coaching company helping cyclists ride their bike faster\n"
     ]
    }
   ],
   "source": [
    "# get description\n",
    "description_element = driver.find_element(By.XPATH, \"/html/body/div[1]/div/div[1]/div/div[3]/div/div/div[1]/div[1]/div/div/div[4]/div[2]/div/div[1]/div[2]/div/div[1]/div/div/div/div/div[2]/div[1]/div/div/span\")\n",
    "description = description_element.text\n",
    "print(description)"
   ]
  },
  {
   "cell_type": "code",
   "execution_count": 21,
   "metadata": {},
   "outputs": [
    {
     "name": "stdout",
     "output_type": "stream",
     "text": [
      "FASCAT COACHING LLC\n"
     ]
    }
   ],
   "source": [
    "# Person resonsible for the page\n",
    "person_responsible = driver.find_element(By.XPATH, \"/html/body/div[1]/div/div[1]/div/div[3]/div/div/div[1]/div[1]/div/div/div[4]/div[2]/div/div[1]/div[2]/div/div[1]/div/div/div/div/div[2]/div[2]/div/ul/div[2]/div[2]/div/div[1]/span\")\n",
    "person_responsible_text = person_responsible.text\n",
    "print(person_responsible_text)"
   ]
  },
  {
   "cell_type": "code",
   "execution_count": null,
   "metadata": {},
   "outputs": [
    {
     "name": "stdout",
     "output_type": "stream",
     "text": [
      "+1 720-406-7444\n"
     ]
    }
   ],
   "source": [
    "# get mobile number\n",
    "mobile_number = driver.find_element(By.XPATH, \"/html/body/div[1]/div/div[1]/div/div[3]/div/div/div[1]/div[1]/div/div/div[4]/div[2]/div/div[1]/div[2]/div/div[1]/div/div/div/div/div[2]/div[2]/div/ul/div[3]/div[2]/div/div/span\")\n",
    "mobile_number_text = mobile_number.text\n",
    "print(mobile_number_text)"
   ]
  },
  {
   "cell_type": "code",
   "execution_count": 23,
   "metadata": {},
   "outputs": [
    {
     "name": "stdout",
     "output_type": "stream",
     "text": [
      "help@fascatcoaching.com\n"
     ]
    }
   ],
   "source": [
    "# get email\n",
    "email = driver.find_element(By.XPATH, \"/html/body/div[1]/div/div[1]/div/div[3]/div/div/div[1]/div[1]/div/div/div[4]/div[2]/div/div[1]/div[2]/div/div[1]/div/div/div/div/div[2]/div[2]/div/ul/div[4]/div[2]/div/div/span\")\n",
    "email_text = email.text\n",
    "print(email_text)"
   ]
  },
  {
   "cell_type": "code",
   "execution_count": 24,
   "metadata": {},
   "outputs": [
    {
     "name": "stdout",
     "output_type": "stream",
     "text": [
      "FasCatCoaching.com\n"
     ]
    }
   ],
   "source": [
    "# get website\n",
    "website = driver.find_element(By.XPATH, \"/html/body/div[1]/div/div[1]/div/div[3]/div/div/div[1]/div[1]/div/div/div[4]/div[2]/div/div[1]/div[2]/div/div[1]/div/div/div/div/div[2]/div[2]/div/ul/div[5]/div[2]/div/a/div/div/span\")\n",
    "website_text = website.text\n",
    "print(website_text)"
   ]
  }
 ],
 "metadata": {
  "kernelspec": {
   "display_name": "Python 3",
   "language": "python",
   "name": "python3"
  },
  "language_info": {
   "codemirror_mode": {
    "name": "ipython",
    "version": 3
   },
   "file_extension": ".py",
   "mimetype": "text/x-python",
   "name": "python",
   "nbconvert_exporter": "python",
   "pygments_lexer": "ipython3",
   "version": "3.11.0"
  }
 },
 "nbformat": 4,
 "nbformat_minor": 2
}
